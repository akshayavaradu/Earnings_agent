{
 "cells": [
  {
   "cell_type": "code",
   "execution_count": 1,
   "id": "59fb2a13-ea5b-4dd7-9ae8-015c67bd9884",
   "metadata": {},
   "outputs": [
    {
     "name": "stderr",
     "output_type": "stream",
     "text": [
      "C:\\Users\\Akshaya V\\AppData\\Local\\Temp\\ipykernel_32632\\301398882.py:16: LangChainDeprecationWarning: The class `OllamaEmbeddings` was deprecated in LangChain 0.3.1 and will be removed in 1.0.0. An updated version of the class exists in the :class:`~langchain-ollama package and should be used instead. To use it run `pip install -U :class:`~langchain-ollama` and import as `from :class:`~langchain_ollama import OllamaEmbeddings``.\n",
      "  embeddings = OllamaEmbeddings(model=\"nomic-embed-text\")\n",
      "C:\\Users\\Akshaya V\\AppData\\Local\\Temp\\ipykernel_32632\\301398882.py:23: LangChainDeprecationWarning: The class `ChatOllama` was deprecated in LangChain 0.3.1 and will be removed in 1.0.0. An updated version of the class exists in the :class:`~langchain-ollama package and should be used instead. To use it run `pip install -U :class:`~langchain-ollama` and import as `from :class:`~langchain_ollama import ChatOllama``.\n",
      "  llm = ChatOllama(model=\"llama3.2:3b\")\n",
      "C:\\Users\\Akshaya V\\AppData\\Local\\Temp\\ipykernel_32632\\301398882.py:27: LangChainDeprecationWarning: The method `Chain.run` was deprecated in langchain 0.1.0 and will be removed in 1.0. Use :meth:`~invoke` instead.\n",
      "  response = qa_chain.run(\"What is the net income of Citi in Q4 2024?\")\n"
     ]
    },
    {
     "name": "stdout",
     "output_type": "stream",
     "text": [
      "I don't have that information. The text only provides the net income for Citigroup's first quarter (Q1) 2025, which was $4.1 billion. It does not mention the net income for the fourth quarter (Q4) 2024.\n"
     ]
    }
   ],
   "source": [
    "from langchain.vectorstores import FAISS\n",
    "from langchain.embeddings import OllamaEmbeddings\n",
    "from langchain.text_splitter import CharacterTextSplitter\n",
    "from langchain_community.document_loaders import TextLoader\n",
    "from langchain.chains import RetrievalQA\n",
    "from langchain_community.chat_models import ChatOllama\n",
    "\n",
    "# 1. Load and split documents\n",
    "\n",
    "loader = TextLoader(\"C:/Users/Akshaya V/git/Earnings research/Earnings_agent/citi.txt\", encoding='utf-8')  # or jpmc.txt\n",
    "docs = loader.load()\n",
    "splitter = CharacterTextSplitter(separator='\\n', chunk_size=500, chunk_overlap=100)\n",
    "split_docs = splitter.split_documents(docs)\n",
    "\n",
    "# 2. Embed\n",
    "embeddings = OllamaEmbeddings(model=\"nomic-embed-text\")\n",
    "db = FAISS.from_documents(split_docs, embeddings)\n",
    "\n",
    "# 3. Create retriever\n",
    "retriever = db.as_retriever()\n",
    "\n",
    "# 4. RetrievalQA chain\n",
    "llm = ChatOllama(model=\"llama3.2:3b\")\n",
    "qa_chain = RetrievalQA.from_chain_type(llm=llm, retriever=retriever)\n",
    "\n",
    "# 5. Ask a question\n",
    "response = qa_chain.run(\"What is the net income of Citi in Q4 2024?\")\n",
    "print(response)\n"
   ]
  },
  {
   "cell_type": "markdown",
   "id": "c3c4f3b9-7d78-4e65-bf7d-6dad85906618",
   "metadata": {},
   "source": [
    "📄 Text File (citi.txt)\n",
    "   ↓\n",
    "🧩 Split into Chunks\n",
    "   ↓\n",
    "🔢 Embedded into Vectors\n",
    "   ↓\n",
    "🗃️ Stored in FAISS\n",
    "   ↓\n",
    "❓ You Ask a Question\n",
    "   ↓\n",
    "🔍 Relevant Chunks Retrieved\n",
    "   ↓\n",
    "🧠 Sent to LLM (LLaMA 3.2)\n",
    "   ↓\n",
    "💬 Final Answer Generated\n"
   ]
  }
 ],
 "metadata": {
  "kernelspec": {
   "display_name": "Python 3 (ipykernel)",
   "language": "python",
   "name": "python3"
  },
  "language_info": {
   "codemirror_mode": {
    "name": "ipython",
    "version": 3
   },
   "file_extension": ".py",
   "mimetype": "text/x-python",
   "name": "python",
   "nbconvert_exporter": "python",
   "pygments_lexer": "ipython3",
   "version": "3.13.3"
  }
 },
 "nbformat": 4,
 "nbformat_minor": 5
}
