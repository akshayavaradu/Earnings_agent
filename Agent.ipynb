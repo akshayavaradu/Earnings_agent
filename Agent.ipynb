{
 "cells": [
  {
   "cell_type": "code",
   "execution_count": 23,
   "id": "70671cc8-d8ba-48c1-835b-1f3a3207f3b0",
   "metadata": {},
   "outputs": [],
   "source": [
    "import requests\n",
    "import PyPDF2"
   ]
  },
  {
   "cell_type": "code",
   "execution_count": 94,
   "id": "a7b7741c-112a-45b0-9b80-4ea973c306f7",
   "metadata": {},
   "outputs": [],
   "source": [
    "def read_text_file(name) :\n",
    "    df=open('note.txt','r')\n",
    "    return df.read()\n",
    "def add_2_numbers(a,b):\n",
    "    return (float(a)+float(b))\n",
    "def calc(num):\n",
    "    return ((float(num)*(float(num)-1))/2)\n",
    "\n",
    "def extract_net_income_from_pdfs(file1=None, file2=None,kpi=None):\n",
    "    def get_kpi(filepath):\n",
    "        try:\n",
    "            with open(filepath, 'rb') as file:\n",
    "                reader = PyPDF2.PdfReader(file)\n",
    "                text = \"\"\n",
    "                for page in reader.pages:\n",
    "                    text += page.extract_text() or \"\"\n",
    "\n",
    "                for line in text.splitlines():\n",
    "                    if kpi in line.lower():\n",
    "                        return line.strip()\n",
    "                return \"not found\"\n",
    "        except Exception as e:\n",
    "            return f\"Error reading {filepath}: {e}\"\n",
    "\n",
    "    result = {}\n",
    "\n",
    "    if file1:\n",
    "        result[\"file1_result\"] = get_kpi(file1)\n",
    "    if file2:\n",
    "        result[\"file2_result\"] = get_kpi(file2)\n",
    "\n",
    "    if not result:\n",
    "        return \"No PDF files provided.\"\n",
    "\n",
    "    return result"
   ]
  },
  {
   "cell_type": "code",
   "execution_count": 93,
   "id": "d555a94a-8803-4476-9658-3e18a563e3e9",
   "metadata": {},
   "outputs": [
    {
     "name": "stdout",
     "output_type": "stream",
     "text": [
      "{'file1_result': 'not found', 'file2_result': 'not found'}\n"
     ]
    }
   ],
   "source": [
    "print(extract_net_income_from_pdfs('C:/Users/Akshaya V/Agent/jpmc.pdf','citi.pdf',kpi='Net Income'))"
   ]
  },
  {
   "cell_type": "code",
   "execution_count": 95,
   "id": "d37c3b2f-4af2-4c1f-8c54-451fe2025715",
   "metadata": {},
   "outputs": [],
   "source": [
    "function_dict={'read_text_file':read_text_file,'add_2_numbers':add_2_numbers,'calc':calc,'extract_net_income_from_pdfs':extract_net_income_from_pdfs}"
   ]
  },
  {
   "cell_type": "code",
   "execution_count": 96,
   "id": "21df81b3-4fbe-4b48-8018-fdfad77a13a1",
   "metadata": {},
   "outputs": [],
   "source": [
    "fn1= {\n",
    "    'type':'function',\n",
    "    \"function\": {\n",
    "        \"name\": \"read_text_file\",\n",
    "        \"description\": \"Reads a notepad file and returns its contents\",\n",
    "        \"parameters\": {\n",
    "            \"type\": \"object\",\n",
    "            \"properties\": {\n",
    "                \"name\": {\n",
    "                    \"type\": \"string\",\n",
    "                    \"description\": \"The full path to the notepad file\"\n",
    "                }\n",
    "            },\n",
    "            \"required\": [\"name\"]\n",
    "        }\n",
    "    }\n",
    "}\n",
    "\n",
    "fn2= {\n",
    "    'type':'function',\n",
    "    \"function\": {\n",
    "        \"name\": \"add_2_numbers\",\n",
    "        \"description\": \"Adds 2 numbers\",\n",
    "        \"parameters\": {\n",
    "            \"type\": \"object\",\n",
    "            \"properties\": {\n",
    "                \"a\": {\n",
    "                    \"type\": \"float\",\n",
    "                    \"description\": \"First number to be added\"\n",
    "                },\n",
    "                \"b\": {\n",
    "                    \"type\": \"float\",\n",
    "                    \"description\": \"Second number to be added\"\n",
    "                }\n",
    "            },\n",
    "            \"required\": [\"a\",\"b\"]\n",
    "        }\n",
    "    }\n",
    "}\n",
    "fn3= {\n",
    "    'type':'function',\n",
    "    \"function\": {\n",
    "        \"name\": \"calc\",\n",
    "        \"description\": \"Does a mathematical calculation\",\n",
    "        \"parameters\": {\n",
    "            \"type\": \"object\",\n",
    "            \"properties\": {\n",
    "                \"num\": {\n",
    "                    \"type\": \"float\",\n",
    "                    \"description\": \"Number to which calculation needs to be done\"\n",
    "                },\n",
    "                \n",
    "            },\n",
    "            \"required\": ['num']\n",
    "        }\n",
    "    }\n",
    "}\n",
    "fn4 = {\n",
    "    \"type\": \"function\",\n",
    "    \"function\": {\n",
    "        \"name\": \"extract_net_income_from_pdfs\",\n",
    "        \"description\": \"Reads one or two PDF files and returns the 'Net Income' values found\",\n",
    "        \"parameters\": {\n",
    "            \"type\": \"object\",\n",
    "            \"properties\": {\n",
    "                \"file1\": {\n",
    "                    \"type\": \"string\",\n",
    "                    \"description\": \"Full path to the first PDF file\"\n",
    "                },\n",
    "                \"file2\": {\n",
    "                    \"type\": \"string\",\n",
    "                    \"description\": \"Full path to the second PDF file\"\n",
    "                },\n",
    "                \"kpi\": {\n",
    "                    \"type\": \"string\",\n",
    "                    \"description\": \"kpi to be extracted\"\n",
    "                }\n",
    "            }\n",
    "            # 'required' list omitted = both are optional\n",
    "        }\n",
    "    }\n",
    "}"
   ]
  },
  {
   "cell_type": "code",
   "execution_count": 100,
   "id": "e8d727b7-995e-4d44-856e-9529e7873981",
   "metadata": {},
   "outputs": [
    {
     "data": {
      "text/plain": [
       "{'model': 'llama3.1:latest',\n",
       " 'created_at': '2025-06-12T04:55:03.899285Z',\n",
       " 'message': {'role': 'assistant',\n",
       "  'content': '',\n",
       "  'tool_calls': [{'function': {'name': 'extract_net_income_from_pdfs',\n",
       "     'arguments': {'file1': 'C:\\\\Users\\\\Akshaya V\\\\Agent\\\\jpmc.pdf',\n",
       "      'file2': 'C:\\\\Users\\\\Akshaya V\\\\Agent\\\\citi.pdf',\n",
       "      'kpi': 'Net income'}}}]},\n",
       " 'done_reason': 'stop',\n",
       " 'done': True,\n",
       " 'total_duration': 20320365600,\n",
       " 'load_duration': 48261500,\n",
       " 'prompt_eval_count': 405,\n",
       " 'prompt_eval_duration': 2912781600,\n",
       " 'eval_count': 64,\n",
       " 'eval_duration': 17358479100}"
      ]
     },
     "execution_count": 100,
     "metadata": {},
     "output_type": "execute_result"
    }
   ],
   "source": [
    "OLLAMA_URL = \"http://localhost:11434/api/chat\"\n",
    "url=OLLAMA_URL\n",
    "data={\n",
    "    \"model\":\"llama3.1:latest\",\n",
    "    \"messages\":[\n",
    "        {\n",
    "            'role':'user',\n",
    "            'content':'what is the Net income found in C:\\\\Users\\\\Akshaya V\\\\Agent\\\\jpmc.pdf and citi.pdf' ,\n",
    "        }],\n",
    "    \"stream\":False,\n",
    "    \"tools\":[fn1,fn2,fn3,fn4]\n",
    "}\n",
    "r=requests.post(url,json=data)\n",
    "r.json()\n"
   ]
  },
  {
   "cell_type": "code",
   "execution_count": 101,
   "id": "765bc5af-cdc7-40a6-b24e-6662f40939a4",
   "metadata": {},
   "outputs": [],
   "source": [
    "f_name=r.json()['message']['tool_calls'][0]['function']['name']\n",
    "f_args=r.json()['message']['tool_calls'][0]['function']['arguments']"
   ]
  },
  {
   "cell_type": "code",
   "execution_count": 102,
   "id": "0489cd36-9729-40d2-a7d6-e0f61e5fe23d",
   "metadata": {},
   "outputs": [
    {
     "data": {
      "text/plain": [
       "{'file1_result': 'not found', 'file2_result': 'not found'}"
      ]
     },
     "execution_count": 102,
     "metadata": {},
     "output_type": "execute_result"
    }
   ],
   "source": [
    "function_dict[f_name](**f_args)"
   ]
  },
  {
   "cell_type": "code",
   "execution_count": null,
   "id": "aa768163-6b80-456a-9d32-9b3ca6d85964",
   "metadata": {},
   "outputs": [],
   "source": []
  }
 ],
 "metadata": {
  "kernelspec": {
   "display_name": "Python 3 (ipykernel)",
   "language": "python",
   "name": "python3"
  },
  "language_info": {
   "codemirror_mode": {
    "name": "ipython",
    "version": 3
   },
   "file_extension": ".py",
   "mimetype": "text/x-python",
   "name": "python",
   "nbconvert_exporter": "python",
   "pygments_lexer": "ipython3",
   "version": "3.13.3"
  }
 },
 "nbformat": 4,
 "nbformat_minor": 5
}
